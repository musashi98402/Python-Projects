{
 "cells": [
  {
   "cell_type": "code",
   "execution_count": 1,
   "metadata": {},
   "outputs": [],
   "source": [
    "import pandas as pd\n",
    "import numpy as np \n",
    "\n",
    "\n",
    "# Machine Learning Tutorial: \n",
    "import sklearn\n",
    "from sklearn.cluster import DBSCAN\n",
    "from sklearn.preprocessing import StandardScaler\n",
    "from sklearn.preprocessing import normalize\n",
    "from sklearn.decomposition import PCA"
   ]
  },
  {
   "cell_type": "code",
   "execution_count": 2,
   "metadata": {},
   "outputs": [],
   "source": [
    "q = pd.Series([1.65, 1.45, 1.55, 1.65, 1.75, 1.80, 1.47, 1.32, 1.76, 1.85, 1.68, 16.9], index=pd.period_range('2019-01-01',freq='Q',periods=12))\n",
    "df = pd.DataFrame(q)"
   ]
  },
  {
   "cell_type": "code",
   "execution_count": 3,
   "metadata": {},
   "outputs": [],
   "source": [
    "df.columns = ['AUM (Millions)']"
   ]
  },
  {
   "cell_type": "code",
   "execution_count": 4,
   "metadata": {},
   "outputs": [
    {
     "data": {
      "text/html": [
       "<div>\n",
       "<style scoped>\n",
       "    .dataframe tbody tr th:only-of-type {\n",
       "        vertical-align: middle;\n",
       "    }\n",
       "\n",
       "    .dataframe tbody tr th {\n",
       "        vertical-align: top;\n",
       "    }\n",
       "\n",
       "    .dataframe thead th {\n",
       "        text-align: right;\n",
       "    }\n",
       "</style>\n",
       "<table border=\"1\" class=\"dataframe\">\n",
       "  <thead>\n",
       "    <tr style=\"text-align: right;\">\n",
       "      <th></th>\n",
       "      <th>AUM (Millions)</th>\n",
       "    </tr>\n",
       "  </thead>\n",
       "  <tbody>\n",
       "    <tr>\n",
       "      <th>2019Q1</th>\n",
       "      <td>1.65</td>\n",
       "    </tr>\n",
       "    <tr>\n",
       "      <th>2019Q2</th>\n",
       "      <td>1.45</td>\n",
       "    </tr>\n",
       "    <tr>\n",
       "      <th>2019Q3</th>\n",
       "      <td>1.55</td>\n",
       "    </tr>\n",
       "    <tr>\n",
       "      <th>2019Q4</th>\n",
       "      <td>1.65</td>\n",
       "    </tr>\n",
       "    <tr>\n",
       "      <th>2020Q1</th>\n",
       "      <td>1.75</td>\n",
       "    </tr>\n",
       "    <tr>\n",
       "      <th>2020Q2</th>\n",
       "      <td>1.80</td>\n",
       "    </tr>\n",
       "    <tr>\n",
       "      <th>2020Q3</th>\n",
       "      <td>1.47</td>\n",
       "    </tr>\n",
       "    <tr>\n",
       "      <th>2020Q4</th>\n",
       "      <td>1.32</td>\n",
       "    </tr>\n",
       "    <tr>\n",
       "      <th>2021Q1</th>\n",
       "      <td>1.76</td>\n",
       "    </tr>\n",
       "    <tr>\n",
       "      <th>2021Q2</th>\n",
       "      <td>1.85</td>\n",
       "    </tr>\n",
       "    <tr>\n",
       "      <th>2021Q3</th>\n",
       "      <td>1.68</td>\n",
       "    </tr>\n",
       "    <tr>\n",
       "      <th>2021Q4</th>\n",
       "      <td>16.90</td>\n",
       "    </tr>\n",
       "  </tbody>\n",
       "</table>\n",
       "</div>"
      ],
      "text/plain": [
       "        AUM (Millions)\n",
       "2019Q1            1.65\n",
       "2019Q2            1.45\n",
       "2019Q3            1.55\n",
       "2019Q4            1.65\n",
       "2020Q1            1.75\n",
       "2020Q2            1.80\n",
       "2020Q3            1.47\n",
       "2020Q4            1.32\n",
       "2021Q1            1.76\n",
       "2021Q2            1.85\n",
       "2021Q3            1.68\n",
       "2021Q4           16.90"
      ]
     },
     "execution_count": 4,
     "metadata": {},
     "output_type": "execute_result"
    }
   ],
   "source": [
    "df  "
   ]
  },
  {
   "cell_type": "code",
   "execution_count": 5,
   "metadata": {},
   "outputs": [],
   "source": [
    "def anomaly_detection (df):\n",
    "    for column in df:\n",
    "        # Z-Score\n",
    "        stdev = np.std(df[column])\n",
    "        mean = df[column].mean()\n",
    "        z_score = (df[column]-mean)/stdev\n",
    "        outlier_z = z_score>3\n",
    "        cleaned_df = df[]\n",
    "        print(f'{np.where(z_score>3)}')\n",
    "        # IQR\n",
    "        percentile25 = df[column].quantile(0.25)\n",
    "        percentile75 = df[column].quantile(0.75)\n",
    "        iqr = percentile75 - percentile25\n",
    "        upper_limit = percentile75 + 1.5 * iqr\n",
    "        lower_limit = percentile25 - 1.5 * iqr\n",
    "        outlier_iqr = [(df[column]>upper_limit) | (df[column]<lower_limit)]\n",
    "        print(f'{np.where((df[column]>upper_limit) | (df[column]<lower_limit))}')"
   ]
  },
  {
   "cell_type": "code",
   "execution_count": 16,
   "metadata": {},
   "outputs": [],
   "source": [
    "def anomaly_detection (df):\n",
    "    for column in df:\n",
    "        # Z-Score\n",
    "        stdev = np.std(df[column])\n",
    "        mean = df[column].mean()\n",
    "        z_score = (df[column]-mean)/stdev\n",
    "        outlier_z = z_score>3\n",
    "        df_clean = df[outlier_z==False]\n",
    "        return df_clean"
   ]
  },
  {
   "cell_type": "code",
   "execution_count": 17,
   "metadata": {},
   "outputs": [
    {
     "data": {
      "text/html": [
       "<div>\n",
       "<style scoped>\n",
       "    .dataframe tbody tr th:only-of-type {\n",
       "        vertical-align: middle;\n",
       "    }\n",
       "\n",
       "    .dataframe tbody tr th {\n",
       "        vertical-align: top;\n",
       "    }\n",
       "\n",
       "    .dataframe thead th {\n",
       "        text-align: right;\n",
       "    }\n",
       "</style>\n",
       "<table border=\"1\" class=\"dataframe\">\n",
       "  <thead>\n",
       "    <tr style=\"text-align: right;\">\n",
       "      <th></th>\n",
       "      <th>AUM (Millions)</th>\n",
       "    </tr>\n",
       "  </thead>\n",
       "  <tbody>\n",
       "    <tr>\n",
       "      <th>2019Q1</th>\n",
       "      <td>1.65</td>\n",
       "    </tr>\n",
       "    <tr>\n",
       "      <th>2019Q2</th>\n",
       "      <td>1.45</td>\n",
       "    </tr>\n",
       "    <tr>\n",
       "      <th>2019Q3</th>\n",
       "      <td>1.55</td>\n",
       "    </tr>\n",
       "    <tr>\n",
       "      <th>2019Q4</th>\n",
       "      <td>1.65</td>\n",
       "    </tr>\n",
       "    <tr>\n",
       "      <th>2020Q1</th>\n",
       "      <td>1.75</td>\n",
       "    </tr>\n",
       "    <tr>\n",
       "      <th>2020Q2</th>\n",
       "      <td>1.80</td>\n",
       "    </tr>\n",
       "    <tr>\n",
       "      <th>2020Q3</th>\n",
       "      <td>1.47</td>\n",
       "    </tr>\n",
       "    <tr>\n",
       "      <th>2020Q4</th>\n",
       "      <td>1.32</td>\n",
       "    </tr>\n",
       "    <tr>\n",
       "      <th>2021Q1</th>\n",
       "      <td>1.76</td>\n",
       "    </tr>\n",
       "    <tr>\n",
       "      <th>2021Q2</th>\n",
       "      <td>1.85</td>\n",
       "    </tr>\n",
       "    <tr>\n",
       "      <th>2021Q3</th>\n",
       "      <td>1.68</td>\n",
       "    </tr>\n",
       "  </tbody>\n",
       "</table>\n",
       "</div>"
      ],
      "text/plain": [
       "        AUM (Millions)\n",
       "2019Q1            1.65\n",
       "2019Q2            1.45\n",
       "2019Q3            1.55\n",
       "2019Q4            1.65\n",
       "2020Q1            1.75\n",
       "2020Q2            1.80\n",
       "2020Q3            1.47\n",
       "2020Q4            1.32\n",
       "2021Q1            1.76\n",
       "2021Q2            1.85\n",
       "2021Q3            1.68"
      ]
     },
     "execution_count": 17,
     "metadata": {},
     "output_type": "execute_result"
    }
   ],
   "source": [
    "anomaly_detection(df)\n"
   ]
  },
  {
   "cell_type": "code",
   "execution_count": 59,
   "metadata": {},
   "outputs": [
    {
     "data": {
      "text/plain": [
       "2019Q1    False\n",
       "2019Q2    False\n",
       "2019Q3    False\n",
       "2019Q4    False\n",
       "2020Q1    False\n",
       "2020Q2    False\n",
       "2020Q3    False\n",
       "2020Q4    False\n",
       "2021Q1    False\n",
       "2021Q2    False\n",
       "2021Q3    False\n",
       "2021Q4     True\n",
       "Freq: Q-DEC, Name: Z-Score, dtype: bool"
      ]
     },
     "execution_count": 59,
     "metadata": {},
     "output_type": "execute_result"
    }
   ],
   "source": [
    "# Z score method:\n",
    "mean = df['AUM (Millions)'].mean()\n",
    "stdev = np.std(df['AUM (Millions)'])\n",
    "df['Z-Score'] = (df['AUM (Millions)']-mean)/stdev # Z-score > 3 == outlier\n",
    "# Outliers as a list:\n",
    "outliers_z = df['Z-Score']>3\n",
    "# Position of the outlier in original dataframe:\n",
    "print(np.where(df['Z-Score'] > 3))"
   ]
  },
  {
   "cell_type": "code",
   "execution_count": 61,
   "metadata": {},
   "outputs": [
    {
     "name": "stdout",
     "output_type": "stream",
     "text": [
      "(array([11], dtype=int64),)\n"
     ]
    }
   ],
   "source": [
    "# IQR Method\n",
    "percentile25 = df['AUM (Millions)'].quantile(0.25)\n",
    "percentile75 = df['AUM (Millions)'].quantile(0.75)\n",
    "iqr = percentile75 - percentile25\n",
    "upper_limit = percentile75 + 1.5 * iqr\n",
    "lower_limit = percentile25 - 1.5 * iqr\n",
    "# Outliers as a list:\n",
    "outliers_iqr = [(df['AUM (Millions)']>upper_limit) | (df['AUM (Millions)']<lower_limit)]\n",
    "# Position of outlier in original dataframe:\n",
    "print(np.where((df['AUM (Millions)']>upper_limit) | (df['AUM (Millions)']<lower_limit)))\n"
   ]
  },
  {
   "cell_type": "code",
   "execution_count": 73,
   "metadata": {},
   "outputs": [],
   "source": [
    "#scale and normalize\n",
    "scaler = StandardScaler()\n",
    "# X = X.values\n",
    "X_s = scaler.fit_transform(X.reshape(-1,1))\n",
    "X_norm = pd.DataFrame(normalize(X_s))"
   ]
  },
  {
   "cell_type": "code",
   "execution_count": 82,
   "metadata": {},
   "outputs": [],
   "source": [
    "pca = PCA(n_components = 1)\n",
    "X_reduce = pca.fit_transform(X_norm)\n",
    "X_reduce = pd.DataFrame(X_reduce)\n",
    "X_reduce.columns = list([f'P{i}' for i in range(1, len(X_reduce.columns)+1)])"
   ]
  },
  {
   "cell_type": "code",
   "execution_count": 83,
   "metadata": {},
   "outputs": [],
   "source": [
    "db_model = DBSCAN(eps = 0.05, min_samples = 10).fit(X_reduce)\n",
    "labels = db_model.labels_"
   ]
  },
  {
   "cell_type": "code",
   "execution_count": 85,
   "metadata": {},
   "outputs": [
    {
     "name": "stdout",
     "output_type": "stream",
     "text": [
      "Clusters: 1\n",
      "Abnormal points: 1\n"
     ]
    }
   ],
   "source": [
    "n_clusters = len(np.unique(labels))-1\n",
    "anomaly = list(labels).count(-1)\n",
    "print(f'Clusters: {n_clusters}')\n",
    "print(f'Abnormal points: {anomaly}')"
   ]
  },
  {
   "cell_type": "code",
   "execution_count": 112,
   "metadata": {},
   "outputs": [
    {
     "name": "stdout",
     "output_type": "stream",
     "text": [
      "[16.9]\n",
      "(array([11], dtype=int64),)\n"
     ]
    }
   ],
   "source": [
    "X_anomaly = X[np.argwhere(labels==-1).reshape((-1,))]\n",
    "print(X_anomaly)\n",
    "# Check for anomaly in original dataframe:\n",
    "print(np.where(df['AUM (Millions)'] == X_anomaly[0]))"
   ]
  },
  {
   "cell_type": "code",
   "execution_count": 32,
   "metadata": {},
   "outputs": [
    {
     "data": {
      "text/plain": [
       "list"
      ]
     },
     "execution_count": 32,
     "metadata": {},
     "output_type": "execute_result"
    }
   ],
   "source": [
    "import requests\n",
    "import numpy as np\n",
    "import pandas as pd\n",
    "\n",
    "r = requests.get('https://coderbyte.com/api/challenges/json/list-numbers')\n",
    "data = r.json()['data']\n",
    "\n",
    "type(data)\n"
   ]
  },
  {
   "cell_type": "code",
   "execution_count": 38,
   "metadata": {},
   "outputs": [],
   "source": [
    "strArr = [\"b-e\",\"b-c\",\"c-d\",\"a-b\",\"e-f\"]\n",
    "# paths_list = strArr.split(',')\n",
    "# print(paths_list)"
   ]
  },
  {
   "cell_type": "code",
   "execution_count": 44,
   "metadata": {},
   "outputs": [
    {
     "name": "stdout",
     "output_type": "stream",
     "text": [
      "['b-e']\n",
      "b e\n",
      "['b-c']\n",
      "b c\n",
      "['c-d']\n",
      "c d\n",
      "['a-b']\n",
      "a b\n",
      "['e-f']\n",
      "e f\n"
     ]
    },
    {
     "data": {
      "text/plain": [
       "('e', 'f', ['e-f'])"
      ]
     },
     "execution_count": 44,
     "metadata": {},
     "output_type": "execute_result"
    }
   ],
   "source": [
    "for edge in strArr:\n",
    "        paths = edge.split(',')\n",
    "        print(paths)\n",
    "        start, end = edge.split(\"-\")\n",
    "        print(start, end)\n"
   ]
  },
  {
   "cell_type": "code",
   "execution_count": null,
   "metadata": {},
   "outputs": [],
   "source": [
    "# ends with begining of another or begins with end of another\n"
   ]
  }
 ],
 "metadata": {
  "kernelspec": {
   "display_name": "Python 3",
   "language": "python",
   "name": "python3"
  },
  "language_info": {
   "codemirror_mode": {
    "name": "ipython",
    "version": 3
   },
   "file_extension": ".py",
   "mimetype": "text/x-python",
   "name": "python",
   "nbconvert_exporter": "python",
   "pygments_lexer": "ipython3",
   "version": "3.11.3"
  },
  "orig_nbformat": 4
 },
 "nbformat": 4,
 "nbformat_minor": 2
}
