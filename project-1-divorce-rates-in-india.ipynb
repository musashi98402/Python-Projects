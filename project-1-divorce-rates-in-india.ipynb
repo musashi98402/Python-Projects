{
 "cells": [
  {
   "cell_type": "code",
   "execution_count": 1,
   "id": "357f6ce8",
   "metadata": {
    "_cell_guid": "b1076dfc-b9ad-4769-8c92-a6c4dae69d19",
    "_uuid": "8f2839f25d086af736a60e9eeb907d3b93b6e0e5",
    "execution": {
     "iopub.execute_input": "2025-01-24T19:15:07.823829Z",
     "iopub.status.busy": "2025-01-24T19:15:07.823339Z",
     "iopub.status.idle": "2025-01-24T19:15:12.703873Z",
     "shell.execute_reply": "2025-01-24T19:15:12.702031Z"
    },
    "papermill": {
     "duration": 4.891279,
     "end_time": "2025-01-24T19:15:12.707359",
     "exception": false,
     "start_time": "2025-01-24T19:15:07.816080",
     "status": "completed"
    },
    "tags": []
   },
   "outputs": [],
   "source": [
    "# Load libraries\n",
    "import sqlite3 # sql querying\n",
    "import numpy as np # linear algebra\n",
    "import pandas as pd # data processing and wrangling\n",
    "import os # facilitates interaction with underlying operating system\n",
    "import seaborn as sns # data visualisation \n",
    "import matplotlib.pyplot as plt # further data visualisation \n",
    "\n",
    "# Some quick Pandas configuration:\n",
    "pd.set_option('display.max_colwidth', None)  # Ensures full column content is shown\n",
    "pd.set_option('display.max_columns', None)   # Ensures all columns are shown\n",
    "\n",
    "# Some quick Seaborn configuration:\n",
    "sns.set_theme(style=\"whitegrid\")\n",
    "sns.set_color_codes(\"pastel\")\n",
    "\n",
    "# Now we will load the dataset put it into an SQL database and then query it using sqlite3:\n",
    "# load dataset\n",
    "df = pd.read_csv('/kaggle/input/indian-marriage-and-divorce-dataset/marriage_divorce_india_with_id.csv')\n",
    "\n",
    "# Create SQLite database\n",
    "conn = sqlite3.connect('example.db')\n",
    "\n",
    "# Save dataset as a table\n",
    "df.to_sql('indian_marriage_divorce', conn, if_exists='replace', index=False)\n",
    "\n",
    "# enable SQL Magic\n",
    "%reload_ext sql\n",
    "\n",
    "# connect to sqliite database\n",
    "%sql sqlite:///example.db"
   ]
  },
  {
   "cell_type": "code",
   "execution_count": 2,
   "id": "4ea0b15d",
   "metadata": {
    "execution": {
     "iopub.execute_input": "2025-01-24T19:15:12.718910Z",
     "iopub.status.busy": "2025-01-24T19:15:12.718276Z",
     "iopub.status.idle": "2025-01-24T19:15:12.729950Z",
     "shell.execute_reply": "2025-01-24T19:15:12.727895Z"
    },
    "papermill": {
     "duration": 0.020553,
     "end_time": "2025-01-24T19:15:12.732553",
     "exception": false,
     "start_time": "2025-01-24T19:15:12.712000",
     "status": "completed"
    },
    "tags": []
   },
   "outputs": [
    {
     "name": "stdout",
     "output_type": "stream",
     "text": [
      "The table contains 1200 rows.\n",
      "The dataset is 72.134 MB.\n"
     ]
    }
   ],
   "source": [
    "# First lets find out the length of the dataset:\n",
    "total_rows_query = \"\"\"\n",
    "                SELECT COUNT(*) AS total_rows\n",
    "                FROM indian_marriage_divorce;\n",
    "                \"\"\"\n",
    "row_count = pd.read_sql_query(total_rows_query, conn)\n",
    "print(f\"The table contains {row_count.iloc[0,0]} rows.\")\n",
    "\n",
    "# Lets also print the size of the dataset:\n",
    "file_path = \"/kaggle/input/indian-marriage-and-divorce-dataset/marriage_divorce_india_with_id.csv\"\n",
    "file_size = os.path.getsize(file_path)\n",
    "print(f\"The dataset is {file_size/1000} MB.\")"
   ]
  },
  {
   "cell_type": "markdown",
   "id": "5696dde1",
   "metadata": {
    "papermill": {
     "duration": 0.004568,
     "end_time": "2025-01-24T19:15:12.743603",
     "exception": false,
     "start_time": "2025-01-24T19:15:12.739035",
     "status": "completed"
    },
    "tags": []
   },
   "source": [
    "Let's bring in the dataset, and see what variables it captures:"
   ]
  },
  {
   "cell_type": "code",
   "execution_count": 3,
   "id": "fd5b52d5",
   "metadata": {
    "execution": {
     "iopub.execute_input": "2025-01-24T19:15:12.755869Z",
     "iopub.status.busy": "2025-01-24T19:15:12.755385Z",
     "iopub.status.idle": "2025-01-24T19:15:12.810391Z",
     "shell.execute_reply": "2025-01-24T19:15:12.808477Z"
    },
    "papermill": {
     "duration": 0.066843,
     "end_time": "2025-01-24T19:15:12.814295",
     "exception": false,
     "start_time": "2025-01-24T19:15:12.747452",
     "status": "completed"
    },
    "tags": []
   },
   "outputs": [
    {
     "data": {
      "text/html": [
       "<div>\n",
       "<style scoped>\n",
       "    .dataframe tbody tr th:only-of-type {\n",
       "        vertical-align: middle;\n",
       "    }\n",
       "\n",
       "    .dataframe tbody tr th {\n",
       "        vertical-align: top;\n",
       "    }\n",
       "\n",
       "    .dataframe thead th {\n",
       "        text-align: right;\n",
       "    }\n",
       "</style>\n",
       "<table border=\"1\" class=\"dataframe\">\n",
       "  <thead>\n",
       "    <tr style=\"text-align: right;\">\n",
       "      <th></th>\n",
       "      <th>Unique ID</th>\n",
       "      <th>Marriage Duration (Years)</th>\n",
       "      <th>Age at Marriage</th>\n",
       "      <th>Marriage Type</th>\n",
       "      <th>Education Level</th>\n",
       "      <th>Income Level (INR per month)</th>\n",
       "      <th>Caste/Religion</th>\n",
       "      <th>Urban/Rural</th>\n",
       "      <th>Family Involvement</th>\n",
       "      <th>Children</th>\n",
       "      <th>Divorce Status</th>\n",
       "    </tr>\n",
       "  </thead>\n",
       "  <tbody>\n",
       "    <tr>\n",
       "      <th>0</th>\n",
       "      <td>MD522</td>\n",
       "      <td>37</td>\n",
       "      <td>30</td>\n",
       "      <td>Arranged</td>\n",
       "      <td>No Education</td>\n",
       "      <td>5287</td>\n",
       "      <td>Jain</td>\n",
       "      <td>Urban</td>\n",
       "      <td>Low</td>\n",
       "      <td>1</td>\n",
       "      <td>Yes</td>\n",
       "    </tr>\n",
       "    <tr>\n",
       "      <th>1</th>\n",
       "      <td>MD549</td>\n",
       "      <td>1</td>\n",
       "      <td>19</td>\n",
       "      <td>Love</td>\n",
       "      <td>Postgraduate</td>\n",
       "      <td>5320</td>\n",
       "      <td>Christian</td>\n",
       "      <td>Rural</td>\n",
       "      <td>Moderate</td>\n",
       "      <td>2</td>\n",
       "      <td>Yes</td>\n",
       "    </tr>\n",
       "    <tr>\n",
       "      <th>2</th>\n",
       "      <td>MD872</td>\n",
       "      <td>1</td>\n",
       "      <td>25</td>\n",
       "      <td>Arranged</td>\n",
       "      <td>Secondary</td>\n",
       "      <td>5390</td>\n",
       "      <td>Other</td>\n",
       "      <td>Rural</td>\n",
       "      <td>Low</td>\n",
       "      <td>4</td>\n",
       "      <td>Yes</td>\n",
       "    </tr>\n",
       "    <tr>\n",
       "      <th>3</th>\n",
       "      <td>MD900</td>\n",
       "      <td>25</td>\n",
       "      <td>34</td>\n",
       "      <td>Love</td>\n",
       "      <td>Postgraduate</td>\n",
       "      <td>5507</td>\n",
       "      <td>Jain</td>\n",
       "      <td>Urban</td>\n",
       "      <td>Low</td>\n",
       "      <td>1</td>\n",
       "      <td>No</td>\n",
       "    </tr>\n",
       "    <tr>\n",
       "      <th>4</th>\n",
       "      <td>MD1012</td>\n",
       "      <td>26</td>\n",
       "      <td>34</td>\n",
       "      <td>Arranged</td>\n",
       "      <td>Secondary</td>\n",
       "      <td>5924</td>\n",
       "      <td>Jain</td>\n",
       "      <td>Urban</td>\n",
       "      <td>Low</td>\n",
       "      <td>0</td>\n",
       "      <td>No</td>\n",
       "    </tr>\n",
       "    <tr>\n",
       "      <th>...</th>\n",
       "      <td>...</td>\n",
       "      <td>...</td>\n",
       "      <td>...</td>\n",
       "      <td>...</td>\n",
       "      <td>...</td>\n",
       "      <td>...</td>\n",
       "      <td>...</td>\n",
       "      <td>...</td>\n",
       "      <td>...</td>\n",
       "      <td>...</td>\n",
       "      <td>...</td>\n",
       "    </tr>\n",
       "    <tr>\n",
       "      <th>1195</th>\n",
       "      <td>MD614</td>\n",
       "      <td>18</td>\n",
       "      <td>27</td>\n",
       "      <td>Arranged</td>\n",
       "      <td>Primary</td>\n",
       "      <td>199549</td>\n",
       "      <td>Jain</td>\n",
       "      <td>Urban</td>\n",
       "      <td>Moderate</td>\n",
       "      <td>0</td>\n",
       "      <td>No</td>\n",
       "    </tr>\n",
       "    <tr>\n",
       "      <th>1196</th>\n",
       "      <td>MD1161</td>\n",
       "      <td>1</td>\n",
       "      <td>24</td>\n",
       "      <td>Love</td>\n",
       "      <td>No Education</td>\n",
       "      <td>199795</td>\n",
       "      <td>Sikh</td>\n",
       "      <td>Urban</td>\n",
       "      <td>Moderate</td>\n",
       "      <td>4</td>\n",
       "      <td>No</td>\n",
       "    </tr>\n",
       "    <tr>\n",
       "      <th>1197</th>\n",
       "      <td>MD366</td>\n",
       "      <td>9</td>\n",
       "      <td>18</td>\n",
       "      <td>Love</td>\n",
       "      <td>Postgraduate</td>\n",
       "      <td>199840</td>\n",
       "      <td>Hindu</td>\n",
       "      <td>Urban</td>\n",
       "      <td>Moderate</td>\n",
       "      <td>0</td>\n",
       "      <td>No</td>\n",
       "    </tr>\n",
       "    <tr>\n",
       "      <th>1198</th>\n",
       "      <td>MD973</td>\n",
       "      <td>9</td>\n",
       "      <td>19</td>\n",
       "      <td>Love</td>\n",
       "      <td>Primary</td>\n",
       "      <td>199923</td>\n",
       "      <td>Christian</td>\n",
       "      <td>Rural</td>\n",
       "      <td>High</td>\n",
       "      <td>4</td>\n",
       "      <td>Yes</td>\n",
       "    </tr>\n",
       "    <tr>\n",
       "      <th>1199</th>\n",
       "      <td>MD775</td>\n",
       "      <td>25</td>\n",
       "      <td>30</td>\n",
       "      <td>Arranged</td>\n",
       "      <td>No Education</td>\n",
       "      <td>199999</td>\n",
       "      <td>Hindu</td>\n",
       "      <td>Rural</td>\n",
       "      <td>Moderate</td>\n",
       "      <td>2</td>\n",
       "      <td>Yes</td>\n",
       "    </tr>\n",
       "  </tbody>\n",
       "</table>\n",
       "<p>1200 rows × 11 columns</p>\n",
       "</div>"
      ],
      "text/plain": [
       "     Unique ID  Marriage Duration (Years)  Age at Marriage Marriage Type  \\\n",
       "0        MD522                         37               30      Arranged   \n",
       "1        MD549                          1               19          Love   \n",
       "2        MD872                          1               25      Arranged   \n",
       "3        MD900                         25               34          Love   \n",
       "4       MD1012                         26               34      Arranged   \n",
       "...        ...                        ...              ...           ...   \n",
       "1195     MD614                         18               27      Arranged   \n",
       "1196    MD1161                          1               24          Love   \n",
       "1197     MD366                          9               18          Love   \n",
       "1198     MD973                          9               19          Love   \n",
       "1199     MD775                         25               30      Arranged   \n",
       "\n",
       "     Education Level  Income Level (INR per month) Caste/Religion Urban/Rural  \\\n",
       "0       No Education                          5287           Jain       Urban   \n",
       "1       Postgraduate                          5320      Christian       Rural   \n",
       "2          Secondary                          5390          Other       Rural   \n",
       "3       Postgraduate                          5507           Jain       Urban   \n",
       "4          Secondary                          5924           Jain       Urban   \n",
       "...              ...                           ...            ...         ...   \n",
       "1195         Primary                        199549           Jain       Urban   \n",
       "1196    No Education                        199795           Sikh       Urban   \n",
       "1197    Postgraduate                        199840          Hindu       Urban   \n",
       "1198         Primary                        199923      Christian       Rural   \n",
       "1199    No Education                        199999          Hindu       Rural   \n",
       "\n",
       "     Family Involvement  Children Divorce Status  \n",
       "0                   Low         1            Yes  \n",
       "1              Moderate         2            Yes  \n",
       "2                   Low         4            Yes  \n",
       "3                   Low         1             No  \n",
       "4                   Low         0             No  \n",
       "...                 ...       ...            ...  \n",
       "1195           Moderate         0             No  \n",
       "1196           Moderate         4             No  \n",
       "1197           Moderate         0             No  \n",
       "1198               High         4            Yes  \n",
       "1199           Moderate         2            Yes  \n",
       "\n",
       "[1200 rows x 11 columns]"
      ]
     },
     "execution_count": 3,
     "metadata": {},
     "output_type": "execute_result"
    }
   ],
   "source": [
    "full_table_query = \"\"\"\n",
    "            SELECT * \n",
    "            FROM indian_marriage_divorce \n",
    "            ORDER BY \"Income Level (INR per month)\" ASC;\n",
    "            \"\"\"\n",
    "full_table = pd.read_sql_query(full_table_query, conn)\n",
    "full_table"
   ]
  },
  {
   "cell_type": "markdown",
   "id": "833aeece",
   "metadata": {
    "papermill": {
     "duration": 0.014925,
     "end_time": "2025-01-24T19:15:12.845745",
     "exception": false,
     "start_time": "2025-01-24T19:15:12.830820",
     "status": "completed"
    },
    "tags": []
   },
   "source": [
    "# Exploratory Data Analysis (EDA):\n",
    "Let's get a feel for this dataset, what does it contain? Knowing this we can begin to structure the questions that we can ask of it. This will facilitate efficient analysis. \n",
    "\n",
    "Whilst the columns with continious data like *Income*,*Age at Marriage*, and *Marriage Duration* are quick to understand. It would be prudent to understand the **unique** values contained in other feature columns such as *Eductation* etc. So we will be looking into what these are and the distribution of the data."
   ]
  },
  {
   "cell_type": "code",
   "execution_count": 4,
   "id": "be3e2788",
   "metadata": {
    "execution": {
     "iopub.execute_input": "2025-01-24T19:15:12.871319Z",
     "iopub.status.busy": "2025-01-24T19:15:12.870577Z",
     "iopub.status.idle": "2025-01-24T19:15:12.889387Z",
     "shell.execute_reply": "2025-01-24T19:15:12.888176Z"
    },
    "papermill": {
     "duration": 0.03661,
     "end_time": "2025-01-24T19:15:12.896428",
     "exception": false,
     "start_time": "2025-01-24T19:15:12.859818",
     "status": "completed"
    },
    "tags": []
   },
   "outputs": [
    {
     "data": {
      "text/html": [
       "<div>\n",
       "<style scoped>\n",
       "    .dataframe tbody tr th:only-of-type {\n",
       "        vertical-align: middle;\n",
       "    }\n",
       "\n",
       "    .dataframe tbody tr th {\n",
       "        vertical-align: top;\n",
       "    }\n",
       "\n",
       "    .dataframe thead th {\n",
       "        text-align: right;\n",
       "    }\n",
       "</style>\n",
       "<table border=\"1\" class=\"dataframe\">\n",
       "  <thead>\n",
       "    <tr style=\"text-align: right;\">\n",
       "      <th></th>\n",
       "      <th>0</th>\n",
       "    </tr>\n",
       "  </thead>\n",
       "  <tbody>\n",
       "    <tr>\n",
       "      <th>Marriage_Type</th>\n",
       "      <td>Love, Arranged</td>\n",
       "    </tr>\n",
       "    <tr>\n",
       "      <th>Education_Level</th>\n",
       "      <td>Secondary, No Education, Postgraduate, Graduate, Primary</td>\n",
       "    </tr>\n",
       "    <tr>\n",
       "      <th>Caste_Religion</th>\n",
       "      <td>Hindu, Jain, Muslim, Christian, Other, Sikh</td>\n",
       "    </tr>\n",
       "    <tr>\n",
       "      <th>Urban_Rural</th>\n",
       "      <td>Rural, Urban</td>\n",
       "    </tr>\n",
       "    <tr>\n",
       "      <th>Family_Involvement</th>\n",
       "      <td>Moderate, High, Low</td>\n",
       "    </tr>\n",
       "    <tr>\n",
       "      <th>Divorce_Status</th>\n",
       "      <td>No, Yes</td>\n",
       "    </tr>\n",
       "  </tbody>\n",
       "</table>\n",
       "</div>"
      ],
      "text/plain": [
       "                                                                           0\n",
       "Marriage_Type                                                 Love, Arranged\n",
       "Education_Level     Secondary, No Education, Postgraduate, Graduate, Primary\n",
       "Caste_Religion                   Hindu, Jain, Muslim, Christian, Other, Sikh\n",
       "Urban_Rural                                                     Rural, Urban\n",
       "Family_Involvement                                       Moderate, High, Low\n",
       "Divorce_Status                                                       No, Yes"
      ]
     },
     "execution_count": 4,
     "metadata": {},
     "output_type": "execute_result"
    }
   ],
   "source": [
    "# Unique values query\n",
    "unique_categorical_query = \"\"\"\n",
    "    SELECT \n",
    "        REPLACE(GROUP_CONCAT(DISTINCT \"Marriage Type\"), ',', ', ') AS Marriage_Type,\n",
    "        REPLACE(GROUP_CONCAT(DISTINCT \"Education Level\"), ',', ', ') AS Education_Level,\n",
    "        REPLACE(GROUP_CONCAT(DISTINCT \"Caste/Religion\"), ',', ', ') AS Caste_Religion,\n",
    "        REPLACE(GROUP_CONCAT(DISTINCT \"Urban/Rural\"), ',', ', ') AS Urban_Rural,\n",
    "        REPLACE(GROUP_CONCAT(DISTINCT \"Family Involvement\"), ',', ', ') AS Family_Involvement,\n",
    "        REPLACE(GROUP_CONCAT(DISTINCT \"Divorce Status\"), ',', ', ') AS Divorce_Status\n",
    "    FROM indian_marriage_divorce;\n",
    "                            \"\"\"\n",
    "\n",
    "unique_categorical_table = pd.read_sql_query(unique_categorical_query, conn)\n",
    "unique_categorical_table.T"
   ]
  },
  {
   "cell_type": "code",
   "execution_count": 5,
   "id": "7a185ca6",
   "metadata": {
    "execution": {
     "iopub.execute_input": "2025-01-24T19:15:12.918766Z",
     "iopub.status.busy": "2025-01-24T19:15:12.918357Z",
     "iopub.status.idle": "2025-01-24T19:15:12.974344Z",
     "shell.execute_reply": "2025-01-24T19:15:12.972124Z"
    },
    "papermill": {
     "duration": 0.07006,
     "end_time": "2025-01-24T19:15:12.980137",
     "exception": false,
     "start_time": "2025-01-24T19:15:12.910077",
     "status": "completed"
    },
    "tags": []
   },
   "outputs": [
    {
     "data": {
      "text/html": [
       "<div>\n",
       "<style scoped>\n",
       "    .dataframe tbody tr th:only-of-type {\n",
       "        vertical-align: middle;\n",
       "    }\n",
       "\n",
       "    .dataframe tbody tr th {\n",
       "        vertical-align: top;\n",
       "    }\n",
       "\n",
       "    .dataframe thead th {\n",
       "        text-align: right;\n",
       "    }\n",
       "</style>\n",
       "<table border=\"1\" class=\"dataframe\">\n",
       "  <thead>\n",
       "    <tr style=\"text-align: right;\">\n",
       "      <th></th>\n",
       "      <th>Marriage Duration (Years)</th>\n",
       "      <th>Age at Marriage</th>\n",
       "      <th>Income Level (INR per month)</th>\n",
       "      <th>Children</th>\n",
       "    </tr>\n",
       "  </thead>\n",
       "  <tbody>\n",
       "    <tr>\n",
       "      <th>count</th>\n",
       "      <td>1200.000000</td>\n",
       "      <td>1200.000000</td>\n",
       "      <td>1200.00000</td>\n",
       "      <td>1200.000000</td>\n",
       "    </tr>\n",
       "    <tr>\n",
       "      <th>mean</th>\n",
       "      <td>20.553333</td>\n",
       "      <td>26.055000</td>\n",
       "      <td>102353.21250</td>\n",
       "      <td>1.885833</td>\n",
       "    </tr>\n",
       "    <tr>\n",
       "      <th>std</th>\n",
       "      <td>11.468512</td>\n",
       "      <td>4.891003</td>\n",
       "      <td>55761.10746</td>\n",
       "      <td>1.453580</td>\n",
       "    </tr>\n",
       "    <tr>\n",
       "      <th>min</th>\n",
       "      <td>1.000000</td>\n",
       "      <td>18.000000</td>\n",
       "      <td>5287.00000</td>\n",
       "      <td>0.000000</td>\n",
       "    </tr>\n",
       "    <tr>\n",
       "      <th>25%</th>\n",
       "      <td>10.000000</td>\n",
       "      <td>22.000000</td>\n",
       "      <td>54522.00000</td>\n",
       "      <td>1.000000</td>\n",
       "    </tr>\n",
       "    <tr>\n",
       "      <th>50%</th>\n",
       "      <td>22.000000</td>\n",
       "      <td>26.000000</td>\n",
       "      <td>101888.50000</td>\n",
       "      <td>2.000000</td>\n",
       "    </tr>\n",
       "    <tr>\n",
       "      <th>75%</th>\n",
       "      <td>30.000000</td>\n",
       "      <td>30.000000</td>\n",
       "      <td>150568.75000</td>\n",
       "      <td>3.000000</td>\n",
       "    </tr>\n",
       "    <tr>\n",
       "      <th>max</th>\n",
       "      <td>39.000000</td>\n",
       "      <td>34.000000</td>\n",
       "      <td>199999.00000</td>\n",
       "      <td>4.000000</td>\n",
       "    </tr>\n",
       "    <tr>\n",
       "      <th>iqr</th>\n",
       "      <td>20.000000</td>\n",
       "      <td>8.000000</td>\n",
       "      <td>96046.75000</td>\n",
       "      <td>2.000000</td>\n",
       "    </tr>\n",
       "  </tbody>\n",
       "</table>\n",
       "</div>"
      ],
      "text/plain": [
       "       Marriage Duration (Years)  Age at Marriage  \\\n",
       "count                1200.000000      1200.000000   \n",
       "mean                   20.553333        26.055000   \n",
       "std                    11.468512         4.891003   \n",
       "min                     1.000000        18.000000   \n",
       "25%                    10.000000        22.000000   \n",
       "50%                    22.000000        26.000000   \n",
       "75%                    30.000000        30.000000   \n",
       "max                    39.000000        34.000000   \n",
       "iqr                    20.000000         8.000000   \n",
       "\n",
       "       Income Level (INR per month)     Children  \n",
       "count                    1200.00000  1200.000000  \n",
       "mean                   102353.21250     1.885833  \n",
       "std                     55761.10746     1.453580  \n",
       "min                      5287.00000     0.000000  \n",
       "25%                     54522.00000     1.000000  \n",
       "50%                    101888.50000     2.000000  \n",
       "75%                    150568.75000     3.000000  \n",
       "max                    199999.00000     4.000000  \n",
       "iqr                     96046.75000     2.000000  "
      ]
     },
     "execution_count": 5,
     "metadata": {},
     "output_type": "execute_result"
    }
   ],
   "source": [
    "# Columns of interest: Marriage Duration (Years), Age at Marriage, Income Level (INR per month), Children\n",
    "quantitative_query = \"\"\"\n",
    "    SELECT \n",
    "        \"Marriage Duration (Years)\", \n",
    "        \"Age at Marriage\", \n",
    "        \"Income Level (INR per month)\",\n",
    "        \"Children\"\n",
    "    FROM indian_marriage_divorce;  \n",
    "                    \"\"\"\n",
    "quantitative_table = pd.read_sql_query(quantitative_query, conn)\n",
    "\n",
    "# Get descriptive statistics:\n",
    "quantitative_ds_table = quantitative_table.describe()\n",
    "\n",
    "# Calculate IQR and add it to the table:\n",
    "iqr_values = [] # Create an empty IQR list to store the values\n",
    "# Loop through the cols calculating the IQR for each col and storing it in the list.\n",
    "for col in quantitative_table:\n",
    "    q1 = quantitative_table[col].quantile(0.25)\n",
    "    q3 = quantitative_table[col].quantile(0.75)\n",
    "    iqr = q3-q1\n",
    "    iqr_values.append(iqr)\n",
    "# Insert the IQR values into the table:\n",
    "quantitative_ds_table.loc[\"iqr\"] = iqr_values\n",
    "quantitative_ds_table"
   ]
  },
  {
   "cell_type": "markdown",
   "id": "db7de981",
   "metadata": {
    "papermill": {
     "duration": 0.009725,
     "end_time": "2025-01-24T19:15:13.003041",
     "exception": false,
     "start_time": "2025-01-24T19:15:12.993316",
     "status": "completed"
    },
    "tags": []
   },
   "source": [
    "One quick point of interest would be to see whether the type of marriage, arranged or out of love, affects the likelihood of divorce. "
   ]
  },
  {
   "cell_type": "code",
   "execution_count": 6,
   "id": "ac48caff",
   "metadata": {
    "execution": {
     "iopub.execute_input": "2025-01-24T19:15:13.021886Z",
     "iopub.status.busy": "2025-01-24T19:15:13.021357Z",
     "iopub.status.idle": "2025-01-24T19:15:13.703703Z",
     "shell.execute_reply": "2025-01-24T19:15:13.701970Z"
    },
    "papermill": {
     "duration": 0.695754,
     "end_time": "2025-01-24T19:15:13.705775",
     "exception": false,
     "start_time": "2025-01-24T19:15:13.010021",
     "status": "completed"
    },
    "tags": []
   },
   "outputs": [
    {
     "data": {
      "image/png": "[encoded data removed]",
      "text/plain": [
       "<Figure size 640x480 with 1 Axes>"
      ]
     },
     "metadata": {},
     "output_type": "display_data"
    }
   ],
   "source": [
    "marriage_type_agg_query = \"\"\"\n",
    "                        SELECT \n",
    "                            \"Marriage Type\",\n",
    "                            COUNT(\"Divorce Status\") as Divorces\n",
    "                        FROM \n",
    "                            indian_marriage_divorce\n",
    "                        WHERE \"Divorce Status\" LIKE \"Yes\"\n",
    "                        GROUP BY \"Marriage Type\";\n",
    "                        \"\"\"\n",
    "marriage_type_agg_table = pd.read_sql_query(marriage_type_agg_query, conn)\n",
    "marriage_type_agg_table\n",
    "# Plot the total divorces\n",
    "sns.barplot(y=\"Marriage Type\", x=\"Divorces\", data=marriage_type_agg_table,\n",
    "            hue=\"Marriage Type\")\n",
    "sns.despine(left=True, bottom=True)\n",
    "plt.legend([], [], frameon=False);\n"
   ]
  },
  {
   "cell_type": "markdown",
   "id": "1a9e8558",
   "metadata": {
    "papermill": {
     "duration": 0.006127,
     "end_time": "2025-01-24T19:15:13.716892",
     "exception": false,
     "start_time": "2025-01-24T19:15:13.710765",
     "status": "completed"
    },
    "tags": []
   },
   "source": [
    "# Linear Regressions:"
   ]
  },
  {
   "cell_type": "code",
   "execution_count": 7,
   "id": "62cd03de",
   "metadata": {
    "execution": {
     "iopub.execute_input": "2025-01-24T19:15:13.735954Z",
     "iopub.status.busy": "2025-01-24T19:15:13.735426Z",
     "iopub.status.idle": "2025-01-24T19:15:13.740296Z",
     "shell.execute_reply": "2025-01-24T19:15:13.738920Z"
    },
    "papermill": {
     "duration": 0.015734,
     "end_time": "2025-01-24T19:15:13.742721",
     "exception": false,
     "start_time": "2025-01-24T19:15:13.726987",
     "status": "completed"
    },
    "tags": []
   },
   "outputs": [],
   "source": [
    "# Divorce and Age at Marriage"
   ]
  },
  {
   "cell_type": "code",
   "execution_count": 8,
   "id": "fa38b219",
   "metadata": {
    "execution": {
     "iopub.execute_input": "2025-01-24T19:15:13.759143Z",
     "iopub.status.busy": "2025-01-24T19:15:13.758683Z",
     "iopub.status.idle": "2025-01-24T19:15:13.765006Z",
     "shell.execute_reply": "2025-01-24T19:15:13.763231Z"
    },
    "papermill": {
     "duration": 0.017054,
     "end_time": "2025-01-24T19:15:13.767907",
     "exception": false,
     "start_time": "2025-01-24T19:15:13.750853",
     "status": "completed"
    },
    "tags": []
   },
   "outputs": [],
   "source": [
    "# Divorce and Marriage Duration"
   ]
  },
  {
   "cell_type": "code",
   "execution_count": 9,
   "id": "71b1adc2",
   "metadata": {
    "execution": {
     "iopub.execute_input": "2025-01-24T19:15:13.782997Z",
     "iopub.status.busy": "2025-01-24T19:15:13.782595Z",
     "iopub.status.idle": "2025-01-24T19:15:13.788821Z",
     "shell.execute_reply": "2025-01-24T19:15:13.786990Z"
    },
    "papermill": {
     "duration": 0.01705,
     "end_time": "2025-01-24T19:15:13.791188",
     "exception": false,
     "start_time": "2025-01-24T19:15:13.774138",
     "status": "completed"
    },
    "tags": []
   },
   "outputs": [],
   "source": [
    "# Divorce and Income"
   ]
  },
  {
   "cell_type": "code",
   "execution_count": 10,
   "id": "96ff8386",
   "metadata": {
    "execution": {
     "iopub.execute_input": "2025-01-24T19:15:13.806773Z",
     "iopub.status.busy": "2025-01-24T19:15:13.806333Z",
     "iopub.status.idle": "2025-01-24T19:15:13.811712Z",
     "shell.execute_reply": "2025-01-24T19:15:13.810195Z"
    },
    "papermill": {
     "duration": 0.016471,
     "end_time": "2025-01-24T19:15:13.815243",
     "exception": false,
     "start_time": "2025-01-24T19:15:13.798772",
     "status": "completed"
    },
    "tags": []
   },
   "outputs": [],
   "source": [
    "# Divorce and No. Children"
   ]
  },
  {
   "cell_type": "markdown",
   "id": "789076fa",
   "metadata": {
    "papermill": {
     "duration": 0.005651,
     "end_time": "2025-01-24T19:15:13.826215",
     "exception": false,
     "start_time": "2025-01-24T19:15:13.820564",
     "status": "completed"
    },
    "tags": []
   },
   "source": [
    "# Logistic Regression?"
   ]
  }
 ],
 "metadata": {
  "kaggle": {
   "accelerator": "none",
   "dataSources": [
    {
     "datasetId": 6512445,
     "sourceId": 10522575,
     "sourceType": "datasetVersion"
    }
   ],
   "dockerImageVersionId": 30839,
   "isGpuEnabled": false,
   "isInternetEnabled": true,
   "language": "python",
   "sourceType": "notebook"
  },
  "kernelspec": {
   "display_name": "Python 3",
   "language": "python",
   "name": "python3"
  },
  "language_info": {
   "codemirror_mode": {
    "name": "ipython",
    "version": 3
   },
   "file_extension": ".py",
   "mimetype": "text/x-python",
   "name": "python",
   "nbconvert_exporter": "python",
   "pygments_lexer": "ipython3",
   "version": "3.10.12"
  },
  "papermill": {
   "default_parameters": {},
   "duration": 10.14222,
   "end_time": "2025-01-24T19:15:14.961812",
   "environment_variables": {},
   "exception": null,
   "input_path": "__notebook__.ipynb",
   "output_path": "__notebook__.ipynb",
   "parameters": {},
   "start_time": "2025-01-24T19:15:04.819592",
   "version": "2.6.0"
  }
 },
 "nbformat": 4,
 "nbformat_minor": 5
}
